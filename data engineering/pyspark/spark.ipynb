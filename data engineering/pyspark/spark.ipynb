{
 "cells": [
  {
   "cell_type": "code",
   "execution_count": null,
   "id": "67d4330f",
   "metadata": {},
   "outputs": [],
   "source": [
    "import os\n",
    "os.environ['JAVA_HOME'] = 'C:\\\\Program Files\\\\Java\\\\jdk1.8.0_202'\n",
    "import os\n",
    "\n",
    "os.environ[\"PYSPARK_PYTHON\"] = \"python\"\n",
    "os.environ[\"PYSPARK_DRIVER_PYTHON\"] = \"python\"\n",
    "\n",
    "# Limit Python worker ports to avoid conflicts\n",
    "os.environ[\"PYSPARK_WORKER_PORT\"] = \"40000\"\n",
    "os.environ[\"PYSPARK_WORKER_PORT_RANGE\"] = \"40000-50000\""
   ]
  },
  {
   "cell_type": "code",
   "execution_count": 58,
   "id": "df7ab5bd",
   "metadata": {},
   "outputs": [],
   "source": [
    "from pyspark.sql import SparkSession\n",
    "spark=SparkSession.builder.getOrCreate()"
   ]
  },
  {
   "cell_type": "code",
   "execution_count": null,
   "id": "e212436a",
   "metadata": {},
   "outputs": [],
   "source": [
    "#data for the dataframe\n",
    "data=[(\"Dilip\",\"Husband\"),(\"Charu\",\"Wife\")]"
   ]
  },
  {
   "cell_type": "code",
   "execution_count": null,
   "id": "db26cdd4",
   "metadata": {},
   "outputs": [],
   "source": [
    "#creating Dataframe using pyspark\n",
    "df=spark.createDataFrame(data,schema='name string, relation string')"
   ]
  },
  {
   "cell_type": "code",
   "execution_count": 51,
   "id": "9bce016c",
   "metadata": {},
   "outputs": [
    {
     "name": "stdout",
     "output_type": "stream",
     "text": [
      "+-----+--------+\n",
      "| name|relation|\n",
      "+-----+--------+\n",
      "|Dilip| Husband|\n",
      "|Charu|    Wife|\n",
      "+-----+--------+\n",
      "\n"
     ]
    }
   ],
   "source": [
    "df.show()"
   ]
  },
  {
   "cell_type": "code",
   "execution_count": 62,
   "id": "948ca02e",
   "metadata": {},
   "outputs": [],
   "source": [
    "from pyspark.sql import Row\n",
    "from datetime import date"
   ]
  },
  {
   "cell_type": "code",
   "execution_count": null,
   "id": "69e42e70",
   "metadata": {},
   "outputs": [],
   "source": [
    "test=spark.createDataFrame([Row(name=\"dilip\",age=23,dob=date(2002,5,8)),Row(name=\"Charu\",age=24,dob=date(2000,11,15))])"
   ]
  },
  {
   "cell_type": "code",
   "execution_count": 53,
   "id": "68426bd0",
   "metadata": {},
   "outputs": [
    {
     "name": "stdout",
     "output_type": "stream",
     "text": [
      "+-----+---+----------+\n",
      "| name|age|       dob|\n",
      "+-----+---+----------+\n",
      "|dilip| 23|2002-05-08|\n",
      "|Charu| 24|2000-11-15|\n",
      "+-----+---+----------+\n",
      "\n"
     ]
    }
   ],
   "source": [
    "test.show()"
   ]
  },
  {
   "cell_type": "code",
   "execution_count": 54,
   "id": "44807774",
   "metadata": {},
   "outputs": [
    {
     "name": "stdout",
     "output_type": "stream",
     "text": [
      "root\n",
      " |-- name: string (nullable = true)\n",
      " |-- age: long (nullable = true)\n",
      " |-- dob: date (nullable = true)\n",
      "\n"
     ]
    }
   ],
   "source": [
    "test.printSchema()"
   ]
  },
  {
   "cell_type": "code",
   "execution_count": 55,
   "id": "d9595a88",
   "metadata": {},
   "outputs": [],
   "source": [
    "spark.conf.set('spark.sql.repl.eagerEval.enabled', True)"
   ]
  },
  {
   "cell_type": "code",
   "execution_count": 56,
   "id": "b6a1523f",
   "metadata": {},
   "outputs": [
    {
     "data": {
      "text/html": [
       "<table border='1'>\n",
       "<tr><th>name</th><th>relation</th></tr>\n",
       "<tr><td>Dilip</td><td>Husband</td></tr>\n",
       "<tr><td>Charu</td><td>Wife</td></tr>\n",
       "</table>\n"
      ],
      "text/plain": [
       "+-----+--------+\n",
       "| name|relation|\n",
       "+-----+--------+\n",
       "|Dilip| Husband|\n",
       "|Charu|    Wife|\n",
       "+-----+--------+"
      ]
     },
     "execution_count": 56,
     "metadata": {},
     "output_type": "execute_result"
    }
   ],
   "source": [
    "df"
   ]
  },
  {
   "cell_type": "code",
   "execution_count": 57,
   "id": "cb7c71c7",
   "metadata": {},
   "outputs": [
    {
     "name": "stdout",
     "output_type": "stream",
     "text": [
      "-RECORD 0-----------\n",
      " name     | Dilip   \n",
      " relation | Husband \n",
      "-RECORD 1-----------\n",
      " name     | Charu   \n",
      " relation | Wife    \n",
      "\n"
     ]
    }
   ],
   "source": [
    "df.show(vertical=True)"
   ]
  },
  {
   "cell_type": "code",
   "execution_count": null,
   "id": "20f7dd82",
   "metadata": {},
   "outputs": [
    {
     "name": "stdout",
     "output_type": "stream",
     "text": [
      "+---+----------+\n",
      "| id|event_date|\n",
      "+---+----------+\n",
      "| A1|2023-10-26|\n",
      "| B2|2023-11-15|\n",
      "| C3|      NULL|\n",
      "+---+----------+\n",
      "\n",
      "root\n",
      " |-- id: string (nullable = true)\n",
      " |-- event_date: date (nullable = true)\n",
      "\n"
     ]
    }
   ],
   "source": [
    "from pyspark.sql.types import StructType, StructField, StringType, DateType\n",
    "from datetime import date\n",
    "\n",
    "schema = StructType([\n",
    "    StructField(\"id\", StringType(), True),\n",
    "    StructField(\"event_date\", DateType(), True)\n",
    "])\n",
    "\n",
    "data = [\n",
    "    (\"A1\", date(2023, 10, 26)),\n",
    "    (\"B2\", date(2023, 11, 15)),\n",
    "    (\"C3\", None)\n",
    "]\n",
    "\n",
    "df = spark.createDataFrame(data, schema)\n",
    "print(df)\n",
    "df.printSchema()  "
   ]
  },
  {
   "cell_type": "code",
   "execution_count": 67,
   "id": "f43f146d",
   "metadata": {},
   "outputs": [
    {
     "data": {
      "text/html": [
       "<table border='1'>\n",
       "<tr><th>name</th><th>age</th></tr>\n",
       "<tr><td>dilip</td><td>23</td></tr>\n",
       "<tr><td>Charu</td><td>24</td></tr>\n",
       "</table>\n"
      ],
      "text/plain": [
       "+-----+---+\n",
       "| name|age|\n",
       "+-----+---+\n",
       "|dilip| 23|\n",
       "|Charu| 24|\n",
       "+-----+---+"
      ]
     },
     "execution_count": 67,
     "metadata": {},
     "output_type": "execute_result"
    }
   ],
   "source": [
    "test.select(\"name\",\"age\")"
   ]
  },
  {
   "cell_type": "code",
   "execution_count": 68,
   "id": "a735fa31",
   "metadata": {},
   "outputs": [
    {
     "data": {
      "text/html": [
       "<table border='1'>\n",
       "<tr><th>summary</th><th>name</th><th>age</th></tr>\n",
       "<tr><td>count</td><td>2</td><td>2</td></tr>\n",
       "<tr><td>mean</td><td>NULL</td><td>23.5</td></tr>\n",
       "<tr><td>stddev</td><td>NULL</td><td>0.7071067811865476</td></tr>\n",
       "<tr><td>min</td><td>Charu</td><td>23</td></tr>\n",
       "<tr><td>max</td><td>dilip</td><td>24</td></tr>\n",
       "</table>\n"
      ],
      "text/plain": [
       "+-------+-----+------------------+\n",
       "|summary| name|               age|\n",
       "+-------+-----+------------------+\n",
       "|  count|    2|                 2|\n",
       "|   mean| NULL|              23.5|\n",
       "| stddev| NULL|0.7071067811865476|\n",
       "|    min|Charu|                23|\n",
       "|    max|dilip|                24|\n",
       "+-------+-----+------------------+"
      ]
     },
     "execution_count": 68,
     "metadata": {},
     "output_type": "execute_result"
    }
   ],
   "source": [
    "test.select(\"name\",\"age\").describe()"
   ]
  },
  {
   "cell_type": "code",
   "execution_count": null,
   "id": "e26fd2c6",
   "metadata": {},
   "outputs": [],
   "source": [
    "spark.conf.set('spark.sql.repl.eagerEval.enabled', False)#it's consuming much time when it's true"
   ]
  },
  {
   "cell_type": "code",
   "execution_count": 71,
   "id": "9603d133",
   "metadata": {},
   "outputs": [
    {
     "data": {
      "text/plain": [
       "[Row(name='dilip', age=23, dob=datetime.date(2002, 5, 8)),\n",
       " Row(name='Charu', age=24, dob=datetime.date(2000, 11, 15))]"
      ]
     },
     "execution_count": 71,
     "metadata": {},
     "output_type": "execute_result"
    }
   ],
   "source": [
    "test.collect()"
   ]
  },
  {
   "cell_type": "code",
   "execution_count": 74,
   "id": "f4f4da5c",
   "metadata": {},
   "outputs": [
    {
     "name": "stdout",
     "output_type": "stream",
     "text": [
      "Collecting pandas\n",
      "  Downloading pandas-2.0.3-cp38-cp38-win_amd64.whl.metadata (18 kB)\n",
      "Requirement already satisfied: python-dateutil>=2.8.2 in c:\\users\\dilip\\miniconda3\\envs\\pyspark38\\lib\\site-packages (from pandas) (2.9.0)\n",
      "Collecting pytz>=2020.1 (from pandas)\n",
      "  Using cached pytz-2025.2-py2.py3-none-any.whl.metadata (22 kB)\n",
      "Collecting tzdata>=2022.1 (from pandas)\n",
      "  Using cached tzdata-2025.2-py2.py3-none-any.whl.metadata (1.4 kB)\n",
      "Collecting numpy>=1.20.3 (from pandas)\n",
      "  Downloading numpy-1.24.4-cp38-cp38-win_amd64.whl.metadata (5.6 kB)\n",
      "Requirement already satisfied: six>=1.5 in c:\\users\\dilip\\miniconda3\\envs\\pyspark38\\lib\\site-packages (from python-dateutil>=2.8.2->pandas) (1.16.0)\n",
      "Downloading pandas-2.0.3-cp38-cp38-win_amd64.whl (10.8 MB)\n",
      "   ---------------------------------------- 0.0/10.8 MB ? eta -:--:--\n",
      "   - -------------------------------------- 0.5/10.8 MB 5.6 MB/s eta 0:00:02\n",
      "   ------ --------------------------------- 1.8/10.8 MB 5.0 MB/s eta 0:00:02\n",
      "   ------------ --------------------------- 3.4/10.8 MB 5.9 MB/s eta 0:00:02\n",
      "   ---------------- ----------------------- 4.5/10.8 MB 5.6 MB/s eta 0:00:02\n",
      "   --------------------- ------------------ 5.8/10.8 MB 5.7 MB/s eta 0:00:01\n",
      "   ------------------------- -------------- 6.8/10.8 MB 5.7 MB/s eta 0:00:01\n",
      "   ------------------------------ --------- 8.1/10.8 MB 5.9 MB/s eta 0:00:01\n",
      "   ----------------------------------- ---- 9.4/10.8 MB 5.8 MB/s eta 0:00:01\n",
      "   -------------------------------------- - 10.5/10.8 MB 5.8 MB/s eta 0:00:01\n",
      "   ---------------------------------------  10.7/10.8 MB 5.7 MB/s eta 0:00:01\n",
      "   ---------------------------------------  10.7/10.8 MB 5.7 MB/s eta 0:00:01\n",
      "   ---------------------------------------  10.7/10.8 MB 5.7 MB/s eta 0:00:01\n",
      "   ---------------------------------------- 10.8/10.8 MB 4.3 MB/s eta 0:00:00\n",
      "Downloading numpy-1.24.4-cp38-cp38-win_amd64.whl (14.9 MB)\n",
      "   ---------------------------------------- 0.0/14.9 MB ? eta -:--:--\n",
      "   -- ------------------------------------- 1.0/14.9 MB 5.6 MB/s eta 0:00:03\n",
      "   ------ --------------------------------- 2.4/14.9 MB 5.8 MB/s eta 0:00:03\n",
      "   ---------- ----------------------------- 3.9/14.9 MB 6.5 MB/s eta 0:00:02\n",
      "   -------------- ------------------------- 5.5/14.9 MB 6.7 MB/s eta 0:00:02\n",
      "   ---------------- ----------------------- 6.3/14.9 MB 6.4 MB/s eta 0:00:02\n",
      "   -------------------- ------------------- 7.6/14.9 MB 6.2 MB/s eta 0:00:02\n",
      "   ----------------------- ---------------- 8.7/14.9 MB 6.1 MB/s eta 0:00:02\n",
      "   -------------------------- ------------- 10.0/14.9 MB 6.0 MB/s eta 0:00:01\n",
      "   ----------------------------- ---------- 11.0/14.9 MB 6.1 MB/s eta 0:00:01\n",
      "   ---------------------------------- ----- 12.8/14.9 MB 6.3 MB/s eta 0:00:01\n",
      "   -------------------------------------- - 14.2/14.9 MB 6.3 MB/s eta 0:00:01\n",
      "   ---------------------------------------  14.7/14.9 MB 6.3 MB/s eta 0:00:01\n",
      "   ---------------------------------------  14.7/14.9 MB 6.3 MB/s eta 0:00:01\n",
      "   ---------------------------------------  14.7/14.9 MB 6.3 MB/s eta 0:00:01\n",
      "   ---------------------------------------  14.7/14.9 MB 6.3 MB/s eta 0:00:01\n",
      "   ---------------------------------------- 14.9/14.9 MB 4.6 MB/s eta 0:00:00\n",
      "Using cached pytz-2025.2-py2.py3-none-any.whl (509 kB)\n",
      "Using cached tzdata-2025.2-py2.py3-none-any.whl (347 kB)\n",
      "Installing collected packages: pytz, tzdata, numpy, pandas\n",
      "Successfully installed numpy-1.24.4 pandas-2.0.3 pytz-2025.2 tzdata-2025.2\n",
      "Note: you may need to restart the kernel to use updated packages.\n"
     ]
    }
   ],
   "source": [
    "pip install pandas"
   ]
  },
  {
   "cell_type": "code",
   "execution_count": 75,
   "id": "4fe24290",
   "metadata": {},
   "outputs": [
    {
     "data": {
      "text/html": [
       "<div>\n",
       "<style scoped>\n",
       "    .dataframe tbody tr th:only-of-type {\n",
       "        vertical-align: middle;\n",
       "    }\n",
       "\n",
       "    .dataframe tbody tr th {\n",
       "        vertical-align: top;\n",
       "    }\n",
       "\n",
       "    .dataframe thead th {\n",
       "        text-align: right;\n",
       "    }\n",
       "</style>\n",
       "<table border=\"1\" class=\"dataframe\">\n",
       "  <thead>\n",
       "    <tr style=\"text-align: right;\">\n",
       "      <th></th>\n",
       "      <th>name</th>\n",
       "      <th>age</th>\n",
       "      <th>dob</th>\n",
       "    </tr>\n",
       "  </thead>\n",
       "  <tbody>\n",
       "    <tr>\n",
       "      <th>0</th>\n",
       "      <td>dilip</td>\n",
       "      <td>23</td>\n",
       "      <td>2002-05-08</td>\n",
       "    </tr>\n",
       "    <tr>\n",
       "      <th>1</th>\n",
       "      <td>Charu</td>\n",
       "      <td>24</td>\n",
       "      <td>2000-11-15</td>\n",
       "    </tr>\n",
       "  </tbody>\n",
       "</table>\n",
       "</div>"
      ],
      "text/plain": [
       "    name  age         dob\n",
       "0  dilip   23  2002-05-08\n",
       "1  Charu   24  2000-11-15"
      ]
     },
     "execution_count": 75,
     "metadata": {},
     "output_type": "execute_result"
    }
   ],
   "source": [
    "test.toPandas()"
   ]
  },
  {
   "cell_type": "code",
   "execution_count": null,
   "id": "d9f17b91",
   "metadata": {},
   "outputs": [
    {
     "data": {
      "text/plain": [
       "Column<'name'>"
      ]
     },
     "execution_count": 76,
     "metadata": {},
     "output_type": "execute_result"
    }
   ],
   "source": [
    "test.name"
   ]
  },
  {
   "cell_type": "code",
   "execution_count": 77,
   "id": "4d120a4c",
   "metadata": {},
   "outputs": [],
   "source": [
    "import pyspark.sql.functions as func"
   ]
  },
  {
   "cell_type": "code",
   "execution_count": 79,
   "id": "4ea85368",
   "metadata": {},
   "outputs": [
    {
     "data": {
      "text/html": [
       "<div>\n",
       "<style scoped>\n",
       "    .dataframe tbody tr th:only-of-type {\n",
       "        vertical-align: middle;\n",
       "    }\n",
       "\n",
       "    .dataframe tbody tr th {\n",
       "        vertical-align: top;\n",
       "    }\n",
       "\n",
       "    .dataframe thead th {\n",
       "        text-align: right;\n",
       "    }\n",
       "</style>\n",
       "<table border=\"1\" class=\"dataframe\">\n",
       "  <thead>\n",
       "    <tr style=\"text-align: right;\">\n",
       "      <th></th>\n",
       "      <th>upper(name)</th>\n",
       "      <th>age</th>\n",
       "    </tr>\n",
       "  </thead>\n",
       "  <tbody>\n",
       "    <tr>\n",
       "      <th>0</th>\n",
       "      <td>DILIP</td>\n",
       "      <td>23</td>\n",
       "    </tr>\n",
       "    <tr>\n",
       "      <th>1</th>\n",
       "      <td>CHARU</td>\n",
       "      <td>24</td>\n",
       "    </tr>\n",
       "  </tbody>\n",
       "</table>\n",
       "</div>"
      ],
      "text/plain": [
       "  upper(name)  age\n",
       "0       DILIP   23\n",
       "1       CHARU   24"
      ]
     },
     "execution_count": 79,
     "metadata": {},
     "output_type": "execute_result"
    }
   ],
   "source": [
    "test.select(func.upper(\"name\"),\"age\").toPandas()"
   ]
  },
  {
   "cell_type": "code",
   "execution_count": 81,
   "id": "53a0816f",
   "metadata": {},
   "outputs": [
    {
     "data": {
      "text/html": [
       "<div>\n",
       "<style scoped>\n",
       "    .dataframe tbody tr th:only-of-type {\n",
       "        vertical-align: middle;\n",
       "    }\n",
       "\n",
       "    .dataframe tbody tr th {\n",
       "        vertical-align: top;\n",
       "    }\n",
       "\n",
       "    .dataframe thead th {\n",
       "        text-align: right;\n",
       "    }\n",
       "</style>\n",
       "<table border=\"1\" class=\"dataframe\">\n",
       "  <thead>\n",
       "    <tr style=\"text-align: right;\">\n",
       "      <th></th>\n",
       "      <th>name</th>\n",
       "      <th>age</th>\n",
       "      <th>dob</th>\n",
       "    </tr>\n",
       "  </thead>\n",
       "  <tbody>\n",
       "    <tr>\n",
       "      <th>0</th>\n",
       "      <td>dilip</td>\n",
       "      <td>23</td>\n",
       "      <td>2002-05-08</td>\n",
       "    </tr>\n",
       "  </tbody>\n",
       "</table>\n",
       "</div>"
      ],
      "text/plain": [
       "    name  age         dob\n",
       "0  dilip   23  2002-05-08"
      ]
     },
     "execution_count": 81,
     "metadata": {},
     "output_type": "execute_result"
    }
   ],
   "source": [
    "test.filter(test.age<24).toPandas()"
   ]
  },
  {
   "cell_type": "code",
   "execution_count": null,
   "id": "198bbbdf",
   "metadata": {},
   "outputs": [],
   "source": []
  }
 ],
 "metadata": {
  "kernelspec": {
   "display_name": "pyspark38",
   "language": "python",
   "name": "python3"
  },
  "language_info": {
   "codemirror_mode": {
    "name": "ipython",
    "version": 3
   },
   "file_extension": ".py",
   "mimetype": "text/x-python",
   "name": "python",
   "nbconvert_exporter": "python",
   "pygments_lexer": "ipython3",
   "version": "3.8.20"
  }
 },
 "nbformat": 4,
 "nbformat_minor": 5
}
